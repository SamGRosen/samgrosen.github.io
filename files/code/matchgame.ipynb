{
  "nbformat": 4,
  "nbformat_minor": 0,
  "metadata": {
    "colab": {
      "name": "matchgame.ipynb",
      "provenance": [],
      "collapsed_sections": [],
      "authorship_tag": "ABX9TyM3/eU2QGojFARZUTFx5rSc",
      "include_colab_link": true
    },
    "kernelspec": {
      "name": "python3",
      "display_name": "Python 3"
    }
  },
  "cells": [
    {
      "cell_type": "markdown",
      "metadata": {
        "id": "view-in-github",
        "colab_type": "text"
      },
      "source": [
        "<a href=\"https://colab.research.google.com/github/SamGRosen/samgrosen.github.io/blob/master/files/code/matchgame.ipynb\" target=\"_parent\"><img src=\"https://colab.research.google.com/assets/colab-badge.svg\" alt=\"Open In Colab\"/></a>"
      ]
    },
    {
      "cell_type": "code",
      "metadata": {
        "id": "j9h1bp8qlWqC",
        "colab_type": "code",
        "colab": {}
      },
      "source": [
        "from collections import defaultdict\n",
        "\n",
        "import numpy as np\n",
        "import scipy.sparse\n",
        "import scipy.sparse.linalg\n",
        "\n",
        "def remove_last_row_column(sparse_matrix):\n",
        "  num_states = sparse_matrix.shape[0]\n",
        "  row_mask = np.ones(sparse_matrix.shape[0], dtype=bool)\n",
        "  row_mask[num_states-1] = False\n",
        "  col_mask = np.ones(sparse_matrix.shape[1], dtype=bool)\n",
        "  col_mask[num_states-1] = False\n",
        "  return sparse_matrix[row_mask][:,col_mask]\n",
        "\n",
        "def get_markov_chain(number_of_pairs, entire_matrix=False, extra_info=False):\n",
        "  queue = [(0, 2 * number_of_pairs)]\n",
        "\n",
        "  adjacency_list = {}\n",
        "\n",
        "  while queue:\n",
        "    curr_state = queue.pop()\n",
        "    alpha, beta = curr_state\n",
        "  \n",
        "    if alpha < 0 or beta < 0:\n",
        "      continue\n",
        "  \n",
        "    next_states = {}\n",
        "    if alpha > beta or (alpha + beta) % 2 == 1: # Know more knowns than unknowns or there is a duplicate in the flipped cards\n",
        "      next_states[(alpha - 1, beta)] = 1\n",
        "    elif alpha == 0 and beta == 0:\n",
        "      next_states[(0, 0)] = 1\n",
        "    elif alpha == beta:\n",
        "      next_states[(alpha - 1, beta - 1)] = 1\n",
        "    else:\n",
        "      next_states[(alpha - 1, beta - 1)] = alpha / beta\n",
        "      next_states[(alpha + 2, beta - 2)] = (1 - alpha/beta) * (1 - (alpha+1)/(beta-1))\n",
        "      next_states[(alpha + 1, beta - 2)] = (1 - alpha/beta) * (alpha / (beta - 1))\n",
        "      next_states[(alpha, beta - 2)]     = (1 - alpha/beta) * 1 / (beta - 1)\n",
        "\n",
        "    # exclude calculating transitions for states with 0 probability to reach\n",
        "    queue.extend(state for state, probability in next_states.items() if state not in adjacency_list and probability > 0)\n",
        "\n",
        "    adjacency_list[curr_state] = next_states\n",
        "\n",
        "  for state, neighbors in adjacency_list.items(): # Clear out not possible states\n",
        "    adjacency_list[state] = {k: v for k, v in neighbors.items() if v > 0}\n",
        "\n",
        "  num_states = len(adjacency_list)\n",
        "  markov_chain = scipy.sparse.lil_matrix((num_states, num_states))\n",
        "\n",
        "  # Build enumeration for states\n",
        "  sorted_keys = sorted(list(adjacency_list.keys()), key=lambda pair: -sum(pair))\n",
        "  keys_to_index = {key: index for index, key in enumerate(sorted_keys)}\n",
        "\n",
        "  for state, neighbors in adjacency_list.items():\n",
        "    adjacency_list[state] = {k: v for k, v in neighbors.items() if v > 1e-10}\n",
        "\n",
        "    for destination, probability in neighbors.items():\n",
        "      markov_chain[(keys_to_index[state], keys_to_index[destination])] = probability\n",
        "  \n",
        "  if not entire_matrix: # Get block matrix for fundamental matrix calculation\n",
        "    to_return = remove_last_row_column(markov_chain)\n",
        "  else:\n",
        "    to_return = scipy.sparse.csr_matrix(markov_chain)\n",
        "\n",
        "  if extra_info:\n",
        "    return to_return, { \"adjacency_list\": adjacency_list, \"keys_to_index\": keys_to_index, \"sorted_keys\": sorted_keys }\n",
        "  return to_return\n",
        "  \n",
        "\n",
        "# N^2 + 1 states\n",
        "three_case = get_markov_chain(3, entire_matrix=True)\n"
      ],
      "execution_count": null,
      "outputs": []
    },
    {
      "cell_type": "code",
      "metadata": {
        "id": "Jc3-_426-RcG",
        "colab_type": "code",
        "colab": {
          "base_uri": "https://localhost:8080/",
          "height": 98
        },
        "outputId": "d8c79e39-3ddf-4ae1-fee8-f3c723d4eda9"
      },
      "source": [
        "def get_case_info(n_pairs):\n",
        "  markov_matrix = get_markov_chain(n_pairs, entire_matrix=True)\n",
        "  Q_matrix = remove_last_row_column(markov_matrix)\n",
        "\n",
        "  # Solve with the fundamental matrix\n",
        "  expected_number_of_turns = scipy.sparse.linalg.spsolve( scipy.sparse.eye(Q_matrix.shape[0]) - Q_matrix, np.ones(Q_matrix.shape[0]))[0]\n",
        "  expected_number_of_failures = expected_number_of_turns - n_pairs\n",
        "\n",
        "  starting_point = np.zeros(markov_matrix.shape[0])\n",
        "  starting_point[0] = 1\n",
        "\n",
        "  first_chance_to_win = markov_matrix.T ** n_pairs\n",
        "  prob_vector = first_chance_to_win @ starting_point\n",
        "  chance_to_finish_with_failures = [prob_vector[-1]]\n",
        "\n",
        "  # Almost all the processing time is calculating the failure distribution\n",
        "  for number_of_failures in range(n_pairs):\n",
        "    next_prob_vector = markov_matrix.T @ prob_vector\n",
        "    chance_to_finish_with_failures.append(next_prob_vector[-1] - prob_vector[-1])\n",
        "    prob_vector = next_prob_vector\n",
        "  \n",
        "  return np.array(chance_to_finish_with_failures)\n",
        "\n",
        "\n",
        "get_case_info(19)\n"
      ],
      "execution_count": null,
      "outputs": [
        {
          "output_type": "execute_result",
          "data": {
            "text/plain": [
              "array([1.21939404e-22, 2.78021842e-19, 2.68221572e-16, 1.41849116e-13,\n",
              "       4.46687950e-11, 8.54907374e-09, 9.78191679e-07, 6.37166308e-05,\n",
              "       2.16683350e-03, 3.36708317e-02, 2.01656540e-01, 4.12461113e-01,\n",
              "       2.81803227e-01, 6.36489224e-02, 4.44655751e-03, 8.10055350e-05,\n",
              "       2.66017169e-07, 6.57639498e-11, 0.00000000e+00, 0.00000000e+00])"
            ]
          },
          "metadata": {
            "tags": []
          },
          "execution_count": 6
        }
      ]
    },
    {
      "cell_type": "code",
      "metadata": {
        "id": "LfD7Cbw71xf0",
        "colab_type": "code",
        "colab": {
          "base_uri": "https://localhost:8080/",
          "height": 53
        },
        "outputId": "592011d2-78fa-4f20-fa37-f745b870a7a4"
      },
      "source": [
        "def export_markov_chain_data(up_to_n):\n",
        "  first_appears = {0: set( ((0,0),) )}\n",
        "  parents_on_level = {}\n",
        "\n",
        "  # Build reverse lookup for our d3 visualizations\n",
        "  reverse_lookup = defaultdict(dict)\n",
        "  for i in range(1, up_to_n + 1):\n",
        "    sparse_mat, extra_info = get_markov_chain(i, entire_matrix=True, extra_info=True)\n",
        "    adj_list = extra_info[\"adjacency_list\"]\n",
        "    sorted_keys = extra_info[\"sorted_keys\"]\n",
        "    possible_states = set(adj_list.keys())\n",
        "\n",
        "    for j in range(i):\n",
        "      possible_states -= first_appears[j]\n",
        "\n",
        "    first_appears[i] = possible_states\n",
        "\n",
        "    # https://stackoverflow.com/a/4319087/10013298\n",
        "    cx = scipy.sparse.coo_matrix(sparse_mat)    \n",
        "    for i,j,p in zip(cx.row, cx.col, cx.data):\n",
        "        reverse_lookup[sorted_keys[j]][sorted_keys[i]] = p\n",
        "\n",
        "\n",
        "  to_export = []\n",
        "  for level, states in first_appears.items():\n",
        "    for state in states:\n",
        "      parents = reverse_lookup[state]\n",
        "      parent_and_probs = list(parents.items()) # ensure order is maintained, likely not a problem with python 3.6+\n",
        "      to_export.append({\n",
        "          \"id\": str(state), # javascript needs pairs as strings\n",
        "          \"firstAppears\": level,\n",
        "          \"parentIds\": [str(key) for key, _ in parent_and_probs],\n",
        "          \"probabilities\": [prob for _, prob in parent_and_probs]\n",
        "      })\n",
        "  \n",
        "  for item in to_export:\n",
        "    if item[\"id\"] == \"(0, 0)\":\n",
        "      item[\"parentIds\"].remove(\"(0, 0)\") # no loops\n",
        "      item[\"probabilities\"].pop() # all values are 1.0\n",
        "      break\n",
        "  \n",
        "  return to_export\n",
        "\n",
        "# Print in json format\n",
        "print(str(export_markov_chain_data(10)).replace(\"'\", '\"'))"
      ],
      "execution_count": null,
      "outputs": [
        {
          "output_type": "stream",
          "text": [
            "[{\"id\": \"(0, 0)\", \"firstAppears\": 0, \"parentIds\": [\"(0, 2)\", \"(1, 1)\"], \"probabilities\": [1.0, 1.0]}, {\"id\": \"(0, 2)\", \"firstAppears\": 1, \"parentIds\": [\"(0, 4)\", \"(1, 3)\"], \"probabilities\": [0.3333333333333333, 0.3333333333333333]}, {\"id\": \"(0, 4)\", \"firstAppears\": 2, \"parentIds\": [\"(0, 6)\", \"(1, 5)\"], \"probabilities\": [0.2, 0.2]}, {\"id\": \"(2, 2)\", \"firstAppears\": 2, \"parentIds\": [\"(0, 4)\", \"(2, 4)\", \"(3, 2)\", \"(3, 3)\"], \"probabilities\": [0.6666666666666667, 0.16666666666666666, 1.0, 1.0]}, {\"id\": \"(1, 1)\", \"firstAppears\": 2, \"parentIds\": [\"(2, 2)\", \"(1, 3)\", \"(2, 1)\"], \"probabilities\": [1.0, 0.33333333333333337, 1.0]}, {\"id\": \"(3, 2)\", \"firstAppears\": 3, \"parentIds\": [\"(2, 4)\"], \"probabilities\": [0.3333333333333333]}, {\"id\": \"(1, 3)\", \"firstAppears\": 3, \"parentIds\": [\"(2, 4)\", \"(1, 5)\", \"(2, 3)\"], \"probabilities\": [0.5, 0.2, 1.0]}, {\"id\": \"(2, 1)\", \"firstAppears\": 3, \"parentIds\": [\"(1, 3)\"], \"probabilities\": [0.33333333333333337]}, {\"id\": \"(0, 6)\", \"firstAppears\": 3, \"parentIds\": [\"(0, 8)\", \"(1, 7)\"], \"probabilities\": [0.14285714285714285, 0.14285714285714285]}, {\"id\": \"(2, 4)\", \"firstAppears\": 3, \"parentIds\": [\"(0, 6)\", \"(2, 6)\", \"(3, 4)\", \"(3, 5)\"], \"probabilities\": [0.8, 0.13333333333333336, 1.0, 0.6]}, {\"id\": \"(2, 6)\", \"firstAppears\": 4, \"parentIds\": [\"(0, 8)\", \"(2, 8)\", \"(3, 6)\", \"(3, 7)\"], \"probabilities\": [0.8571428571428572, 0.10714285714285714, 1.0, 0.42857142857142855]}, {\"id\": \"(3, 3)\", \"firstAppears\": 4, \"parentIds\": [\"(4, 4)\", \"(1, 5)\", \"(3, 5)\", \"(4, 3)\"], \"probabilities\": [1.0, 0.4, 0.1, 1.0]}, {\"id\": \"(4, 4)\", \"firstAppears\": 4, \"parentIds\": [\"(2, 6)\", \"(4, 6)\", \"(5, 4)\", \"(5, 5)\"], \"probabilities\": [0.2666666666666667, 0.06666666666666668, 1.0, 1.0]}, {\"id\": \"(1, 5)\", \"firstAppears\": 4, \"parentIds\": [\"(2, 6)\", \"(1, 7)\", \"(2, 5)\"], \"probabilities\": [0.3333333333333333, 0.14285714285714288, 1.0]}, {\"id\": \"(2, 3)\", \"firstAppears\": 4, \"parentIds\": [\"(1, 5)\"], \"probabilities\": [0.2]}, {\"id\": \"(0, 8)\", \"firstAppears\": 4, \"parentIds\": [\"(0, 10)\", \"(1, 9)\"], \"probabilities\": [0.1111111111111111, 0.1111111111111111]}, {\"id\": \"(3, 4)\", \"firstAppears\": 4, \"parentIds\": [\"(2, 6)\"], \"probabilities\": [0.2666666666666667]}, {\"id\": \"(2, 8)\", \"firstAppears\": 5, \"parentIds\": [\"(0, 10)\", \"(2, 10)\", \"(3, 8)\", \"(3, 9)\"], \"probabilities\": [0.8888888888888888, 0.08888888888888889, 1.0, 0.3333333333333333]}, {\"id\": \"(0, 10)\", \"firstAppears\": 5, \"parentIds\": [\"(0, 12)\", \"(1, 11)\"], \"probabilities\": [0.09090909090909091, 0.09090909090909091]}, {\"id\": \"(2, 5)\", \"firstAppears\": 5, \"parentIds\": [\"(1, 7)\"], \"probabilities\": [0.14285714285714285]}, {\"id\": \"(3, 6)\", \"firstAppears\": 5, \"parentIds\": [\"(2, 8)\"], \"probabilities\": [0.21428571428571427]}, {\"id\": \"(5, 4)\", \"firstAppears\": 5, \"parentIds\": [\"(4, 6)\"], \"probabilities\": [0.2666666666666667]}, {\"id\": \"(3, 5)\", \"firstAppears\": 5, \"parentIds\": [\"(4, 6)\", \"(1, 7)\", \"(3, 7)\", \"(4, 5)\"], \"probabilities\": [0.6666666666666666, 0.5714285714285715, 0.09523809523809523, 1.0]}, {\"id\": \"(4, 6)\", \"firstAppears\": 5, \"parentIds\": [\"(2, 8)\", \"(4, 8)\", \"(5, 6)\", \"(5, 7)\"], \"probabilities\": [0.42857142857142855, 0.07142857142857142, 1.0, 0.7142857142857143]}, {\"id\": \"(4, 3)\", \"firstAppears\": 5, \"parentIds\": [\"(3, 5)\"], \"probabilities\": [0.30000000000000004]}, {\"id\": \"(1, 7)\", \"firstAppears\": 5, \"parentIds\": [\"(2, 8)\", \"(1, 9)\", \"(2, 7)\"], \"probabilities\": [0.25, 0.1111111111111111, 1.0]}, {\"id\": \"(4, 8)\", \"firstAppears\": 6, \"parentIds\": [\"(2, 10)\", \"(4, 10)\", \"(5, 8)\", \"(5, 9)\"], \"probabilities\": [0.5333333333333334, 0.06666666666666667, 1.0, 0.5555555555555556]}, {\"id\": \"(5, 6)\", \"firstAppears\": 6, \"parentIds\": [\"(4, 8)\"], \"probabilities\": [0.2857142857142857]}, {\"id\": \"(6, 6)\", \"firstAppears\": 6, \"parentIds\": [\"(4, 8)\", \"(6, 8)\", \"(7, 6)\", \"(7, 7)\"], \"probabilities\": [0.14285714285714285, 0.03571428571428571, 1.0, 1.0]}, {\"id\": \"(3, 7)\", \"firstAppears\": 6, \"parentIds\": [\"(4, 8)\", \"(1, 9)\", \"(3, 9)\", \"(4, 7)\"], \"probabilities\": [0.5, 0.6666666666666666, 0.08333333333333334, 1.0]}, {\"id\": \"(5, 5)\", \"firstAppears\": 6, \"parentIds\": [\"(6, 6)\", \"(3, 7)\", \"(5, 7)\", \"(6, 5)\"], \"probabilities\": [1.0, 0.1904761904761905, 0.047619047619047616, 1.0]}, {\"id\": \"(4, 5)\", \"firstAppears\": 6, \"parentIds\": [\"(3, 7)\"], \"probabilities\": [0.2857142857142857]}, {\"id\": \"(0, 12)\", \"firstAppears\": 6, \"parentIds\": [\"(0, 14)\", \"(1, 13)\"], \"probabilities\": [0.07692307692307693, 0.07692307692307693]}, {\"id\": \"(2, 10)\", \"firstAppears\": 6, \"parentIds\": [\"(0, 12)\", \"(2, 12)\", \"(3, 10)\", \"(3, 11)\"], \"probabilities\": [0.9090909090909091, 0.07575757575757576, 1.0, 0.2727272727272727]}, {\"id\": \"(1, 9)\", \"firstAppears\": 6, \"parentIds\": [\"(2, 10)\", \"(1, 11)\", \"(2, 9)\"], \"probabilities\": [0.2, 0.09090909090909091, 1.0]}, {\"id\": \"(2, 7)\", \"firstAppears\": 6, \"parentIds\": [\"(1, 9)\"], \"probabilities\": [0.1111111111111111]}, {\"id\": \"(3, 8)\", \"firstAppears\": 6, \"parentIds\": [\"(2, 10)\"], \"probabilities\": [0.17777777777777778]}, {\"id\": \"(4, 10)\", \"firstAppears\": 7, \"parentIds\": [\"(2, 12)\", \"(4, 12)\", \"(5, 10)\", \"(5, 11)\"], \"probabilities\": [0.6060606060606061, 0.060606060606060615, 1.0, 0.45454545454545453]}, {\"id\": \"(4, 7)\", \"firstAppears\": 7, \"parentIds\": [\"(3, 9)\"], \"probabilities\": [0.25]}, {\"id\": \"(0, 14)\", \"firstAppears\": 7, \"parentIds\": [\"(0, 16)\", \"(1, 15)\"], \"probabilities\": [0.06666666666666667, 0.06666666666666667]}, {\"id\": \"(3, 9)\", \"firstAppears\": 7, \"parentIds\": [\"(4, 10)\", \"(1, 11)\", \"(3, 11)\", \"(4, 9)\"], \"probabilities\": [0.4, 0.7272727272727273, 0.07272727272727272, 1.0]}, {\"id\": \"(2, 12)\", \"firstAppears\": 7, \"parentIds\": [\"(0, 14)\", \"(2, 14)\", \"(3, 12)\", \"(3, 13)\"], \"probabilities\": [0.9230769230769231, 0.06593406593406594, 1.0, 0.23076923076923078]}, {\"id\": \"(1, 11)\", \"firstAppears\": 7, \"parentIds\": [\"(2, 12)\", \"(1, 13)\", \"(2, 11)\"], \"probabilities\": [0.16666666666666666, 0.07692307692307693, 1.0]}, {\"id\": \"(5, 8)\", \"firstAppears\": 7, \"parentIds\": [\"(4, 10)\"], \"probabilities\": [0.26666666666666666]}, {\"id\": \"(6, 5)\", \"firstAppears\": 7, \"parentIds\": [\"(5, 7)\"], \"probabilities\": [0.23809523809523808]}, {\"id\": \"(6, 8)\", \"firstAppears\": 7, \"parentIds\": [\"(4, 10)\", \"(6, 10)\", \"(7, 8)\", \"(7, 9)\"], \"probabilities\": [0.26666666666666666, 0.044444444444444446, 1.0, 0.7777777777777778]}, {\"id\": \"(2, 9)\", \"firstAppears\": 7, \"parentIds\": [\"(1, 11)\"], \"probabilities\": [0.09090909090909091]}, {\"id\": \"(3, 10)\", \"firstAppears\": 7, \"parentIds\": [\"(2, 12)\"], \"probabilities\": [0.15151515151515152]}, {\"id\": \"(7, 6)\", \"firstAppears\": 7, \"parentIds\": [\"(6, 8)\"], \"probabilities\": [0.21428571428571427]}, {\"id\": \"(5, 7)\", \"firstAppears\": 7, \"parentIds\": [\"(6, 8)\", \"(3, 9)\", \"(5, 9)\", \"(6, 7)\"], \"probabilities\": [0.75, 0.33333333333333337, 0.05555555555555555, 1.0]}, {\"id\": \"(5, 9)\", \"firstAppears\": 8, \"parentIds\": [\"(6, 10)\", \"(3, 11)\", \"(5, 11)\", \"(6, 9)\"], \"probabilities\": [0.6, 0.43636363636363634, 0.05454545454545454, 1.0]}, {\"id\": \"(7, 7)\", \"firstAppears\": 8, \"parentIds\": [\"(8, 8)\", \"(5, 9)\", \"(7, 9)\", \"(8, 7)\"], \"probabilities\": [1.0, 0.1111111111111111, 0.027777777777777776, 1.0]}, {\"id\": \"(3, 11)\", \"firstAppears\": 8, \"parentIds\": [\"(4, 12)\", \"(1, 13)\", \"(3, 13)\", \"(4, 11)\"], \"probabilities\": [0.3333333333333333, 0.7692307692307693, 0.0641025641025641, 1.0]}, {\"id\": \"(0, 16)\", \"firstAppears\": 8, \"parentIds\": [\"(0, 18)\", \"(1, 17)\"], \"probabilities\": [0.058823529411764705, 0.058823529411764705]}, {\"id\": \"(4, 12)\", \"firstAppears\": 8, \"parentIds\": [\"(2, 14)\", \"(4, 14)\", \"(5, 12)\", \"(5, 13)\"], \"probabilities\": [0.6593406593406593, 0.054945054945054944, 1.0, 0.38461538461538464]}, {\"id\": \"(6, 7)\", \"firstAppears\": 8, \"parentIds\": [\"(5, 9)\"], \"probabilities\": [0.2777777777777778]}, {\"id\": \"(4, 9)\", \"firstAppears\": 8, \"parentIds\": [\"(3, 11)\"], \"probabilities\": [0.21818181818181817]}, {\"id\": \"(6, 10)\", \"firstAppears\": 8, \"parentIds\": [\"(4, 12)\", \"(6, 12)\", \"(7, 10)\", \"(7, 11)\"], \"probabilities\": [0.36363636363636365, 0.045454545454545456, 1.0, 0.6363636363636364]}, {\"id\": \"(1, 13)\", \"firstAppears\": 8, \"parentIds\": [\"(2, 14)\", \"(1, 15)\", \"(2, 13)\"], \"probabilities\": [0.14285714285714285, 0.06666666666666667, 1.0]}, {\"id\": \"(2, 14)\", \"firstAppears\": 8, \"parentIds\": [\"(0, 16)\", \"(2, 16)\", \"(3, 14)\", \"(3, 15)\"], \"probabilities\": [0.9333333333333333, 0.058333333333333334, 1.0, 0.2]}, {\"id\": \"(3, 12)\", \"firstAppears\": 8, \"parentIds\": [\"(2, 14)\"], \"probabilities\": [0.13186813186813187]}, {\"id\": \"(5, 10)\", \"firstAppears\": 8, \"parentIds\": [\"(4, 12)\"], \"probabilities\": [0.24242424242424246]}, {\"id\": \"(2, 11)\", \"firstAppears\": 8, \"parentIds\": [\"(1, 13)\"], \"probabilities\": [0.07692307692307693]}, {\"id\": \"(8, 8)\", \"firstAppears\": 8, \"parentIds\": [\"(6, 10)\", \"(8, 10)\", \"(9, 8)\", \"(9, 9)\"], \"probabilities\": [0.08888888888888889, 0.022222222222222216, 1.0, 1.0]}, {\"id\": \"(7, 8)\", \"firstAppears\": 8, \"parentIds\": [\"(6, 10)\"], \"probabilities\": [0.26666666666666666]}, {\"id\": \"(6, 9)\", \"firstAppears\": 9, \"parentIds\": [\"(5, 11)\"], \"probabilities\": [0.2727272727272727]}, {\"id\": \"(9, 8)\", \"firstAppears\": 9, \"parentIds\": [\"(8, 10)\"], \"probabilities\": [0.17777777777777773]}, {\"id\": \"(8, 10)\", \"firstAppears\": 9, \"parentIds\": [\"(6, 12)\", \"(8, 12)\", \"(9, 10)\"], \"probabilities\": [0.18181818181818182, 0.030303030303030307, 1.0]}, {\"id\": \"(2, 13)\", \"firstAppears\": 9, \"parentIds\": [\"(1, 15)\"], \"probabilities\": [0.06666666666666667]}, {\"id\": \"(5, 11)\", \"firstAppears\": 9, \"parentIds\": [\"(6, 12)\", \"(3, 13)\", \"(5, 13)\", \"(6, 11)\"], \"probabilities\": [0.5, 0.5128205128205129, 0.05128205128205129, 1.0]}, {\"id\": \"(8, 7)\", \"firstAppears\": 9, \"parentIds\": [\"(7, 9)\"], \"probabilities\": [0.19444444444444442]}, {\"id\": \"(1, 15)\", \"firstAppears\": 9, \"parentIds\": [\"(2, 16)\", \"(1, 17)\", \"(2, 15)\"], \"probabilities\": [0.125, 0.058823529411764705, 1.0]}, {\"id\": \"(3, 14)\", \"firstAppears\": 9, \"parentIds\": [\"(2, 16)\"], \"probabilities\": [0.11666666666666667]}, {\"id\": \"(5, 12)\", \"firstAppears\": 9, \"parentIds\": [\"(4, 14)\"], \"probabilities\": [0.2197802197802198]}, {\"id\": \"(7, 10)\", \"firstAppears\": 9, \"parentIds\": [\"(6, 12)\"], \"probabilities\": [0.2727272727272727]}, {\"id\": \"(2, 16)\", \"firstAppears\": 9, \"parentIds\": [\"(0, 18)\", \"(2, 18)\", \"(3, 16)\"], \"probabilities\": [0.9411764705882353, 0.0522875816993464, 1.0]}, {\"id\": \"(3, 13)\", \"firstAppears\": 9, \"parentIds\": [\"(4, 14)\", \"(1, 15)\", \"(3, 15)\", \"(4, 13)\"], \"probabilities\": [0.2857142857142857, 0.8, 0.05714285714285715, 1.0]}, {\"id\": \"(0, 18)\", \"firstAppears\": 9, \"parentIds\": [\"(0, 20)\"], \"probabilities\": [0.05263157894736842]}, {\"id\": \"(4, 14)\", \"firstAppears\": 9, \"parentIds\": [\"(2, 16)\", \"(4, 16)\", \"(5, 14)\"], \"probabilities\": [0.7000000000000001, 0.05, 1.0]}, {\"id\": \"(6, 12)\", \"firstAppears\": 9, \"parentIds\": [\"(4, 14)\", \"(6, 14)\", \"(7, 12)\"], \"probabilities\": [0.4395604395604396, 0.04395604395604395, 1.0]}, {\"id\": \"(4, 11)\", \"firstAppears\": 9, \"parentIds\": [\"(3, 13)\"], \"probabilities\": [0.1923076923076923]}, {\"id\": \"(7, 9)\", \"firstAppears\": 9, \"parentIds\": [\"(8, 10)\", \"(5, 11)\", \"(7, 11)\", \"(8, 9)\"], \"probabilities\": [0.8, 0.21818181818181817, 0.03636363636363636, 1.0]}, {\"id\": \"(0, 20)\", \"firstAppears\": 10, \"parentIds\": [], \"probabilities\": []}, {\"id\": \"(7, 12)\", \"firstAppears\": 10, \"parentIds\": [\"(6, 14)\"], \"probabilities\": [0.26373626373626374]}, {\"id\": \"(1, 17)\", \"firstAppears\": 10, \"parentIds\": [\"(2, 18)\"], \"probabilities\": [0.1111111111111111]}, {\"id\": \"(4, 16)\", \"firstAppears\": 10, \"parentIds\": [\"(2, 18)\"], \"probabilities\": [0.7320261437908496]}, {\"id\": \"(8, 12)\", \"firstAppears\": 10, \"parentIds\": [\"(6, 14)\"], \"probabilities\": [0.26373626373626374]}, {\"id\": \"(9, 9)\", \"firstAppears\": 10, \"parentIds\": [\"(10, 10)\", \"(7, 11)\"], \"probabilities\": [1.0, 0.07272727272727271]}, {\"id\": \"(5, 14)\", \"firstAppears\": 10, \"parentIds\": [\"(4, 16)\"], \"probabilities\": [0.2]}, {\"id\": \"(2, 18)\", \"firstAppears\": 10, \"parentIds\": [\"(0, 20)\"], \"probabilities\": [0.9473684210526316]}, {\"id\": \"(8, 9)\", \"firstAppears\": 10, \"parentIds\": [\"(7, 11)\"], \"probabilities\": [0.2545454545454545]}, {\"id\": \"(6, 14)\", \"firstAppears\": 10, \"parentIds\": [\"(4, 16)\"], \"probabilities\": [0.5]}, {\"id\": \"(6, 11)\", \"firstAppears\": 10, \"parentIds\": [\"(5, 13)\"], \"probabilities\": [0.25641025641025644]}, {\"id\": \"(10, 10)\", \"firstAppears\": 10, \"parentIds\": [\"(8, 12)\"], \"probabilities\": [0.060606060606060594]}, {\"id\": \"(3, 15)\", \"firstAppears\": 10, \"parentIds\": [\"(4, 16)\", \"(1, 17)\"], \"probabilities\": [0.25, 0.8235294117647058]}, {\"id\": \"(5, 13)\", \"firstAppears\": 10, \"parentIds\": [\"(6, 14)\", \"(3, 15)\"], \"probabilities\": [0.42857142857142855, 0.5714285714285715]}, {\"id\": \"(7, 11)\", \"firstAppears\": 10, \"parentIds\": [\"(8, 12)\", \"(5, 13)\"], \"probabilities\": [0.6666666666666666, 0.3076923076923077]}, {\"id\": \"(4, 13)\", \"firstAppears\": 10, \"parentIds\": [\"(3, 15)\"], \"probabilities\": [0.17142857142857143]}, {\"id\": \"(3, 16)\", \"firstAppears\": 10, \"parentIds\": [\"(2, 18)\"], \"probabilities\": [0.1045751633986928]}, {\"id\": \"(9, 10)\", \"firstAppears\": 10, \"parentIds\": [\"(8, 12)\"], \"probabilities\": [0.24242424242424246]}, {\"id\": \"(2, 15)\", \"firstAppears\": 10, \"parentIds\": [\"(1, 17)\"], \"probabilities\": [0.058823529411764705]}]\n"
          ],
          "name": "stdout"
        }
      ]
    },
    {
      "cell_type": "code",
      "metadata": {
        "id": "VFCKZ_kVrbWB",
        "colab_type": "code",
        "colab": {
          "base_uri": "https://localhost:8080/",
          "height": 53
        },
        "outputId": "ea17cf90-75cc-4f84-b9a8-026c0628c0c9"
      },
      "source": [
        "def export_markov_chain_winning_data(n_pairs):\n",
        "  data = []\n",
        "  for n in range(1, n_pairs + 1):\n",
        "    info = get_case_info(n)\n",
        "\n",
        "    pdf = info[info > 0.0] # We do floating point comparison as we want to keep incredibly small positive values\n",
        "    support = np.arange(0, len(pdf), 1)\n",
        "\n",
        "    expected_number_of_failures = np.sum(pdf * support)\n",
        "    variance = np.mean((support - expected_number_of_failures) ** 2)\n",
        "\n",
        "    data.append(dict(\n",
        "        pdf = list(pdf),\n",
        "        expectation = expected_number_of_failures\n",
        "     ))\n",
        "    \n",
        "  return data\n",
        "\n",
        "print(str(export_markov_chain_winning_data(10)).replace(\"'\", '\"'))\n",
        "\n"
      ],
      "execution_count": null,
      "outputs": [
        {
          "output_type": "stream",
          "text": [
            "[{\"pdf\": [1.0], \"expectation\": 0.0}, {\"pdf\": [0.3333333333333333, 0.6666666666666667], \"expectation\": 0.6666666666666667}, {\"pdf\": [0.06666666666666667, 0.5333333333333334, 0.3999999999999999], \"expectation\": 1.3333333333333333}, {\"pdf\": [0.009523809523809523, 0.19047619047619052, 0.6666666666666669, 0.1333333333333333], \"expectation\": 1.923809523809524}, {\"pdf\": [0.001058201058201058, 0.04232804232804233, 0.3915343915343915, 0.5333333333333333, 0.031746031746031744], \"expectation\": 2.5523809523809526}, {\"pdf\": [9.62000962000962e-05, 0.006734006734006735, 0.12794612794612797, 0.5670033670033671, 0.2922558922558922, 0.00596440596440595], \"expectation\": 3.1624819624819622}, {\"pdf\": [7.4000074000074e-06, 0.0008288008288008289, 0.027972027972027982, 0.28344988344988353, 0.5675213675213677, 0.11928811928811933, 0.0009324009324008786], \"expectation\": 3.77924297924298}, {\"pdf\": [4.933338266671599e-07, 8.288008288008289e-05, 0.004516964516964518, 0.08651299317965988, 0.45908659241992583, 0.4109431309431312, 0.03873163873163876, 0.000125306791973534], \"expectation\": 4.392984792984795}, {\"pdf\": [2.9019636862774116e-08, 6.964712847065789e-06, 0.0005728476316711612, 0.018425379994007448, 0.20321058752431306, 0.5389120683238332, 0.22838355544237898, 0.010473767336512396, 1.4800014800031569e-05], \"expectation\": 5.007567595802891}, {\"pdf\": [1.5273493085670584e-09, 5.040252718271294e-07, 5.947498207560127e-05, 0.0029641390219305604, 0.05842190527433045, 0.35961363102745975, 0.47413902613077025, 0.10236387012444803, 0.00243588693537089, 1.5609509933511845e-06], \"expectation\": 5.6216500389875}]\n"
          ],
          "name": "stdout"
        }
      ]
    }
  ]
}